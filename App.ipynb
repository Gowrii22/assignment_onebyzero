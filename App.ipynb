{
 "cells": [
  {
   "cell_type": "code",
   "execution_count": 2,
   "id": "66731dbb-0751-4e91-8445-62978f313846",
   "metadata": {},
   "outputs": [
    {
     "name": "stdout",
     "output_type": "stream",
     "text": [
      "✅ Loaded 1 new file(s).\n",
      "✅ Loaded 1 new file(s).\n",
      " * Serving Flask app '__main__'\n",
      " * Debug mode: off\n"
     ]
    },
    {
     "name": "stderr",
     "output_type": "stream",
     "text": [
      "WARNING: This is a development server. Do not use it in a production deployment. Use a production WSGI server instead.\n",
      " * Running on http://127.0.0.1:8080\n",
      "Press CTRL+C to quit\n"
     ]
    }
   ],
   "source": [
    "\n",
    "import os\n",
    "import glob\n",
    "import time\n",
    "import pandas as pd\n",
    "from flask import Flask, jsonify\n",
    "from datetime import datetime, timedelta\n",
    "from threading import Thread\n",
    "\n",
    "app = Flask(__name__)\n",
    "transaction_dir = \"./transactions\"\n",
    "reference_file = \"./reference/ProductReference.csv\"\n",
    "\n",
    "product_df = pd.read_csv(reference_file)\n",
    "transactions_df = pd.DataFrame()\n",
    "merged_df = pd.DataFrame()\n",
    "loaded_files = set()\n",
    "\n",
    "def load_transactions():\n",
    "    global transactions_df, merged_df, loaded_files\n",
    "    all_files = glob.glob(os.path.join(transaction_dir, \"*.csv\"))\n",
    "    new_files = [f for f in all_files if f not in loaded_files]\n",
    "\n",
    "    if not new_files:\n",
    "        return\n",
    "\n",
    "    new_dataframes = [pd.read_csv(f) for f in new_files]\n",
    "    new_df = pd.concat(new_dataframes, ignore_index=True)\n",
    "    new_df[\"transactionDatetime\"] = pd.to_datetime(new_df[\"transactionDatetime\"])\n",
    "\n",
    "    transactions_df = pd.concat([transactions_df, new_df], ignore_index=True)\n",
    "    merged_df = transactions_df.merge(product_df, on=\"productId\", how=\"left\")\n",
    "    loaded_files.update(new_files)\n",
    "    print(f\"✅ Loaded {len(new_files)} new file(s).\")\n",
    "\n",
    "def folder_watcher():\n",
    "    while True:\n",
    "        load_transactions()\n",
    "        time.sleep(10)\n",
    "\n",
    "@app.route(\"/assignment/transaction/<int:transaction_id>\", methods=[\"GET\"])\n",
    "def get_transaction(transaction_id):\n",
    "    record = merged_df[merged_df[\"transactionId\"] == transaction_id]\n",
    "    if record.empty:\n",
    "        return jsonify({\"error\": \"Transaction not found\"}), 404\n",
    "    result = record.iloc[0]\n",
    "    return jsonify({\n",
    "        \"transactionId\": int(result[\"transactionId\"]),\n",
    "        \"productName\": result[\"productName\"],\n",
    "        \"transactionAmount\": result[\"transactionAmount\"],\n",
    "        \"transactionDatetime\": result[\"transactionDatetime\"].strftime(\"%Y-%m-%d %H:%M:%S\")\n",
    "    })\n",
    "\n",
    "@app.route(\"/assignment/transactionSummaryByProducts/<int:last_n_days>\", methods=[\"GET\"])\n",
    "def transaction_summary_by_products(last_n_days):\n",
    "    recent_date = datetime.now() - timedelta(days=last_n_days)\n",
    "    recent_txns = merged_df[merged_df[\"transactionDatetime\"] >= recent_date]\n",
    "    summary = recent_txns.groupby(\"productName\")[\"transactionAmount\"].sum().reset_index()\n",
    "    return jsonify({\"summary\": summary.to_dict(orient=\"records\")})\n",
    "\n",
    "@app.route(\"/assignment/transactionSummaryByManufacturingCity/<int:last_n_days>\", methods=[\"GET\"])\n",
    "def transaction_summary_by_city(last_n_days):\n",
    "    recent_date = datetime.now() - timedelta(days=last_n_days)\n",
    "    recent_txns = merged_df[merged_df[\"transactionDatetime\"] >= recent_date]\n",
    "    summary = recent_txns.groupby(\"productManufacturingCity\")[\"transactionAmount\"].sum().reset_index()\n",
    "    summary.rename(columns={\"productManufacturingCity\": \"cityName\"}, inplace=True)\n",
    "    return jsonify({\"summary\": summary.to_dict(orient=\"records\")})\n",
    "\n",
    "def run_app():\n",
    "    app.run(port=8080)\n",
    "\n",
    "Thread(target=run_app).start()\n",
    "Thread(target=folder_watcher, daemon=True).start()\n",
    "load_transactions()\n"
   ]
  },
  {
   "cell_type": "code",
   "execution_count": null,
   "id": "8a3a43c6-3d3a-4eab-8fcb-c2d89d246d42",
   "metadata": {},
   "outputs": [],
   "source": []
  }
 ],
 "metadata": {
  "kernelspec": {
   "display_name": "Python 3 (ipykernel)",
   "language": "python",
   "name": "python3"
  },
  "language_info": {
   "codemirror_mode": {
    "name": "ipython",
    "version": 3
   },
   "file_extension": ".py",
   "mimetype": "text/x-python",
   "name": "python",
   "nbconvert_exporter": "python",
   "pygments_lexer": "ipython3",
   "version": "3.13.2"
  }
 },
 "nbformat": 4,
 "nbformat_minor": 5
}
